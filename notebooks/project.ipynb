# Práctica de API request


```python
import os
from dotenv import load_dotenv

# load the .env file variables
load_dotenv()

# Get credential values
client_id = os.getenv("62239e0f4cb1496bb001620caa6c4093")
client_secret = os.getenv("38d78374ddae4535a74ba934c29374ca")
```


```python
import spotipy
from spotipy.oauth2 import SpotifyClientCredentials

auth_manager = SpotifyClientCredentials(client_id="62239e0f4cb1496bb001620caa6c4093", client_secret="38d78374ddae4535a74ba934c29374ca")
spotify = spotipy.Spotify(auth_manager=auth_manager)
sp = spotipy.Spotify(auth_manager=auth_manager)
```


```python
result = sp.search(q="Beret", type="artist", limit=1)
artist_id = result["artists"]["items"][0]["id"]

print("Artist-ID:", artist_id)
```

    Artist-ID: 0ZHPrnImGh4re3TbSNkoZl



```python
top_tracks = sp.artist_top_tracks(artist_id, country="US")
```


```python
songs_data = []
for track in top_tracks["tracks"][:10]:
    song_info = {
        "song": track["name"],
        "popularity": track["popularity"],
        "duration": round(track["duration_ms"] / 60000, 2)
    }
    songs_data.append(song_info)

print("\nTop 10 canciones:")
for s in songs_data:
    print(s)

```

    
    Top 10 canciones:
    {'song': 'Porfa no te vayas', 'popularity': 71, 'duration': 3.5}
    {'song': 'Lo siento', 'popularity': 66, 'duration': 3.84}
    {'song': 'Ojalá', 'popularity': 66, 'duration': 3.65}
    {'song': 'Vuelve', 'popularity': 65, 'duration': 3.75}
    {'song': 'Diablo', 'popularity': 63, 'duration': 2.74}
    {'song': 'El día menos pensado', 'popularity': 63, 'duration': 3.74}
    {'song': 'Te echo de menos', 'popularity': 61, 'duration': 3.25}
    {'song': 'Si te vuelvo a llamar', 'popularity': 62, 'duration': 2.93}
    {'song': 'Si por mi fuera', 'popularity': 61, 'duration': 3.48}
    {'song': 'Hola, qué tal?', 'popularity': 61, 'duration': 3.05}


