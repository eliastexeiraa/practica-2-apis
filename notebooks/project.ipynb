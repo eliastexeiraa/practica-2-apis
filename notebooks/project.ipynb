{
 "cells": [
  {
   "metadata": {},
   "cell_type": "markdown",
   "source": "# Práctica de API request",
   "id": "b0eb257da1b6c6bc"
  },
  {
   "metadata": {
    "ExecuteTime": {
     "end_time": "2025-09-16T23:46:35.641602Z",
     "start_time": "2025-09-16T23:46:35.633267Z"
    }
   },
   "cell_type": "code",
   "source": [
    "import os\n",
    "from dotenv import load_dotenv\n",
    "\n",
    "# load the .env file variables\n",
    "load_dotenv()\n",
    "\n",
    "# Get credential values\n",
    "client_id = os.getenv(\"62239e0f4cb1496bb001620caa6c4093\")\n",
    "client_secret = os.getenv(\"38d78374ddae4535a74ba934c29374ca\")"
   ],
   "id": "85c67a6f66885e43",
   "outputs": [],
   "execution_count": 76
  },
  {
   "metadata": {
    "ExecuteTime": {
     "end_time": "2025-09-16T23:29:28.394737Z",
     "start_time": "2025-09-16T23:29:28.374619Z"
    }
   },
   "cell_type": "code",
   "source": [
    "import spotipy\n",
    "from spotipy.oauth2 import SpotifyClientCredentials\n",
    "\n",
    "auth_manager = SpotifyClientCredentials(client_id=\"62239e0f4cb1496bb001620caa6c4093\", client_secret=\"38d78374ddae4535a74ba934c29374ca\")\n",
    "spotify = spotipy.Spotify(auth_manager=auth_manager)\n",
    "sp = spotipy.Spotify(auth_manager=auth_manager)"
   ],
   "id": "b791bb21b6f475e1",
   "outputs": [],
   "execution_count": 56
  },
  {
   "metadata": {
    "ExecuteTime": {
     "end_time": "2025-09-16T23:46:00.791419Z",
     "start_time": "2025-09-16T23:46:00.292463Z"
    }
   },
   "cell_type": "code",
   "source": [
    "result = sp.search(q=\"Beret\", type=\"artist\", limit=1)\n",
    "artist_id = result[\"artists\"][\"items\"][0][\"id\"]\n",
    "\n",
    "print(\"Artist-ID:\", artist_id)"
   ],
   "id": "e5f8b6d74a4ac78f",
   "outputs": [
    {
     "name": "stdout",
     "output_type": "stream",
     "text": [
      "Artist-ID: 0ZHPrnImGh4re3TbSNkoZl\n"
     ]
    }
   ],
   "execution_count": 73
  },
  {
   "metadata": {
    "ExecuteTime": {
     "end_time": "2025-09-16T23:46:05.857708Z",
     "start_time": "2025-09-16T23:46:05.553300Z"
    }
   },
   "cell_type": "code",
   "source": "top_tracks = sp.artist_top_tracks(artist_id, country=\"US\")",
   "id": "e25a58b6e988e994",
   "outputs": [],
   "execution_count": 74
  },
  {
   "metadata": {
    "ExecuteTime": {
     "end_time": "2025-09-16T23:46:10.400720Z",
     "start_time": "2025-09-16T23:46:10.393838Z"
    }
   },
   "cell_type": "code",
   "source": [
    "songs_data = []\n",
    "for track in top_tracks[\"tracks\"][:10]:\n",
    "    song_info = {\n",
    "        \"song\": track[\"name\"],\n",
    "        \"popularity\": track[\"popularity\"],\n",
    "        \"duration\": round(track[\"duration_ms\"] / 60000, 2)\n",
    "    }\n",
    "    songs_data.append(song_info)\n",
    "\n",
    "print(\"\\nTop 10 canciones:\")\n",
    "for s in songs_data:\n",
    "    print(s)\n"
   ],
   "id": "1de2df05e6ce81",
   "outputs": [
    {
     "name": "stdout",
     "output_type": "stream",
     "text": [
      "\n",
      "Top 10 canciones:\n",
      "{'song': 'Porfa no te vayas', 'popularity': 71, 'duration': 3.5}\n",
      "{'song': 'Lo siento', 'popularity': 66, 'duration': 3.84}\n",
      "{'song': 'Ojalá', 'popularity': 66, 'duration': 3.65}\n",
      "{'song': 'Vuelve', 'popularity': 65, 'duration': 3.75}\n",
      "{'song': 'Diablo', 'popularity': 63, 'duration': 2.74}\n",
      "{'song': 'El día menos pensado', 'popularity': 63, 'duration': 3.74}\n",
      "{'song': 'Te echo de menos', 'popularity': 61, 'duration': 3.25}\n",
      "{'song': 'Si te vuelvo a llamar', 'popularity': 62, 'duration': 2.93}\n",
      "{'song': 'Si por mi fuera', 'popularity': 61, 'duration': 3.48}\n",
      "{'song': 'Hola, qué tal?', 'popularity': 61, 'duration': 3.05}\n"
     ]
    }
   ],
   "execution_count": 75
  }
 ],
 "metadata": {
  "kernelspec": {
   "display_name": "Python 3",
   "language": "python",
   "name": "python3"
  },
  "language_info": {
   "codemirror_mode": {
    "name": "ipython",
    "version": 2
   },
   "file_extension": ".py",
   "mimetype": "text/x-python",
   "name": "python",
   "nbconvert_exporter": "python",
   "pygments_lexer": "ipython2",
   "version": "2.7.6"
  }
 },
 "nbformat": 4,
 "nbformat_minor": 5
}
